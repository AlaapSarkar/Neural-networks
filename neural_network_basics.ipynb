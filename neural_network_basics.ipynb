{
  "nbformat": 4,
  "nbformat_minor": 0,
  "metadata": {
    "colab": {
      "name": "neural_network_basics.ipynb",
      "provenance": [],
      "collapsed_sections": [],
      "include_colab_link": true
    },
    "kernelspec": {
      "name": "python3",
      "display_name": "Python 3"
    }
  },
  "cells": [
    {
      "cell_type": "markdown",
      "metadata": {
        "id": "view-in-github",
        "colab_type": "text"
      },
      "source": [
        "<a href=\"https://colab.research.google.com/github/Alsr96/Neural-networks/blob/master/neural_network_basics.ipynb\" target=\"_parent\"><img src=\"https://colab.research.google.com/assets/colab-badge.svg\" alt=\"Open In Colab\"/></a>"
      ]
    },
    {
      "cell_type": "markdown",
      "metadata": {
        "id": "GFzyqDrcfOP-",
        "colab_type": "text"
      },
      "source": [
        "# Tensorflow"
      ]
    },
    {
      "cell_type": "code",
      "metadata": {
        "id": "pdvskv-8fBkE",
        "colab_type": "code",
        "colab": {}
      },
      "source": [
        "import tensorflow as tf\n",
        "import numpy as np"
      ],
      "execution_count": 0,
      "outputs": []
    },
    {
      "cell_type": "markdown",
      "metadata": {
        "id": "f3fBwQR4gEG4",
        "colab_type": "text"
      },
      "source": [
        "### Placeholders\n",
        "\n",
        "* Placeholders: undefined variables, not initialised. Represents some value, holds a place for some value. Useful to define inputs and outputs of a function.\n",
        "* A plceholder can be defined using datatype, shape of the value and name."
      ]
    },
    {
      "cell_type": "code",
      "metadata": {
        "id": "86r6pVbbfndp",
        "colab_type": "code",
        "colab": {}
      },
      "source": [
        "a = tf.placeholder(tf.float32, shape=(4,), name='placeholder_a')\n",
        "b = tf.placeholder(tf.float32, shape=(4,), name='placeholder_b')\n",
        "c = tf.placeholder(tf.float32, shape=(None,4), name='placeholder_c')\n",
        "d = tf.placeholder(tf.float32)\n",
        "e = tf.placeholder()"
      ],
      "execution_count": 0,
      "outputs": []
    },
    {
      "cell_type": "markdown",
      "metadata": {
        "id": "UZbr-QadmJSd",
        "colab_type": "text"
      },
      "source": [
        "* We defined a bunch of placeholders in the above code.\n",
        "* Running the above code will give an error, dtype is a necessary argument, shape and name are not.\n",
        "* Why is shape not necessary? We are not giving it any values, we might not know what it might be. None represents that any size can go theough it.\n",
        "* Name represents the variable's name on the graph which may not be the same as the assigned variable to the value.\n",
        "* They don't have values but we can use them in functions."
      ]
    },
    {
      "cell_type": "code",
      "metadata": {
        "id": "1W2T2FtArIXl",
        "colab_type": "code",
        "colab": {}
      },
      "source": [
        "add_a_b = tf.add(a,b,name='addition')\n",
        "multiply_c_d = tf.multiply(c,d, name='multiplication')\n",
        "matmul_b_c = tf.matmul(b,c, name='matrix multiplication')"
      ],
      "execution_count": 0,
      "outputs": []
    },
    {
      "cell_type": "markdown",
      "metadata": {
        "id": "1e6g7_sEwpL2",
        "colab_type": "text"
      },
      "source": [
        "* add and multiply are from tf.math module which perform elementwise, they can also be accessed with tf.math.add and tf.math.multiply respectively\n",
        "* matmul performs a matrix multiplication, from tf.linalg (linear algebra) module. Can be accessed as tf.linalg.matmul, it has other arguments to transpose, find adjoint etc of the inputs.\n",
        "* We have defined the functions but they won't give us any values since the placeholders don't have any values.\n",
        "\n",
        "To pass values through them we need to create a session and 'feed' the values."
      ]
    },
    {
      "cell_type": "code",
      "metadata": {
        "id": "g1EfM8_ZyiyZ",
        "colab_type": "code",
        "colab": {}
      },
      "source": [
        "with tf.session as sess:\n",
        "  print(sess.run(a, feed_dict={a:[1,2,3,4]}))\n",
        "  print(sess.run(d, feed_dict={d:[[1,2],[3,4],[5,6]]}))\n",
        "  print(sess.run(add_a_b, feed_dict={a:[1,2,3,4],b:[10,11,12,13]}))\n",
        "  print(sess.run(multiply_c_d, feed_dict={}))"
      ],
      "execution_count": 0,
      "outputs": []
    }
  ]
}